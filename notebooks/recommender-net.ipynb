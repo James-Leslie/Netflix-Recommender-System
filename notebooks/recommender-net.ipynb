{
 "cells": [
  {
   "cell_type": "markdown",
   "metadata": {
    "heading_collapsed": true
   },
   "source": [
    "# Netflix recommender system\n",
    "\n",
    "In this notebook, we will build a neural network capable of recommending movies to Netlix users, based on their viewing history.   \n",
    "\n",
    "The [Netflix Prize](https://en.wikipedia.org/wiki/Netflix_Prize) was an open competition which began in 2006. The goal for the competition was to build an algorithm capable of predicting user ratings for films, using nothing other than the users' viewing history (i.e. no personal information).   \n",
    "\n",
    "The prize money for the competition was US$1 000 000, and was won by the BellKor's Pragmatic Chaos team in 2009, with a score of 0.8567 on the test set.   \n",
    "\n",
    "The full data set is available on Kaggle [here](https://www.kaggle.com/netflix-inc/netflix-prize-data)."
   ]
  },
  {
   "cell_type": "code",
   "execution_count": 1,
   "metadata": {
    "collapsed": true,
    "hidden": true
   },
   "outputs": [
    {
     "name": "stderr",
     "output_type": "stream",
     "text": [
      "/home/james/anaconda3/lib/python3.6/site-packages/sklearn/ensemble/weight_boosting.py:29: DeprecationWarning: numpy.core.umath_tests is an internal NumPy module and should not be imported. It will be removed in a future NumPy release.\n",
      "  from numpy.core.umath_tests import inner1d\n"
     ]
    }
   ],
   "source": [
    "%reload_ext autoreload\n",
    "%autoreload 2\n",
    "%matplotlib inline\n",
    "\n",
    "from fastai.learner import *\n",
    "from fastai.column_data import *\n",
    "\n",
    "path='../data/'"
   ]
  },
  {
   "cell_type": "markdown",
   "metadata": {},
   "source": [
    "## Model architecture\n",
    "We are going to use our own custom neural network to learn the user and movie embeddings.   \n",
    "\n",
    "This neural network will be pretty simple, with the input being simply a user-movie pair, and the output being a predicted rating.   \n",
    "Between the input and the output, we have two layers:\n",
    " - embedding layer (with dropout)\n",
    " - hidden layer (with dropout and relu activation function)   \n",
    " \n",
    "![NN diagram](https://github.com/James-Leslie/Netflix-Recommender-System/blob/master/diagrams/EmbeddingNet.png?raw=true)   "
   ]
  },
  {
   "cell_type": "markdown",
   "metadata": {},
   "source": [
    "The architecture shown above is very similar to that of a standard feed-forward neural network, with one significant difference.   \n",
    "\n",
    "Each User and Movie ID will have a set of embeddings which can be 'learned' through training.   \n",
    "Only when observations with that particular User or Movie ID are fed through the network, will the network activate (and update) the mapped embeddings.   \n",
    "In other words, User1 and User2 will have different values for the nodes in the first layer. When passing ratings made my User1 into the network, then only User1's embedding layer will be trained.   \n",
    "Similarly, when ratings for Movie1 are passed into the network, then only the movie embeddings associated to that movie will be updated through training.   \n",
    "\n",
    "The hidden layer of the network is fully connected to the embedding layer, and thus will always be updated in any training batch."
   ]
  },
  {
   "cell_type": "markdown",
   "metadata": {},
   "source": [
    "## Building the model in PyTorch\n",
    "The architecture of the model above is defined below as a standard PyTorch model."
   ]
  },
  {
   "cell_type": "code",
   "execution_count": 2,
   "metadata": {},
   "outputs": [],
   "source": [
    "class EmbeddingNet(nn.Module):\n",
    "    def __init__(self, n_factors, n_users, n_items, min_score, max_score):\n",
    "        super().__init__()\n",
    "        self.min_score,self.max_score = min_score,max_score\n",
    "        (self.u, self.i) = [get_emb(*o) for o in [\n",
    "            (n_users, n_factors), (n_items, n_factors)]]\n",
    "        self.lin1 = nn.Linear(n_factors*2, 10)  # 10 hidden layers\n",
    "        self.lin2 = nn.Linear(10, 1)\n",
    "        self.drop1 = nn.Dropout(0.05)  # dropout rate of 0.05\n",
    "        self.drop2 = nn.Dropout(0.5)  # dropout rate of 0.5\n",
    "\n",
    "    def forward(self, users, items):\n",
    "        x = self.drop1(torch.cat([self.u(users),self.i(items)], dim=1))\n",
    "        x = self.drop2(F.relu(self.lin1(x)))\n",
    "        x = self.lin2(x)\n",
    "        return F.sigmoid(x) * (self.max_score-self.min_score) + self.min_score"
   ]
  },
  {
   "cell_type": "markdown",
   "metadata": {},
   "source": [
    "## Extending the model to the fastai library\n",
    "Now we need to extend the `CollabFilterDataset` class (source code is found in `fastai/column_data.py`) so that it uses our `EmbeddingNet` model rather than the `EmbeddingDotBias` model used by the default fastai class."
   ]
  },
  {
   "cell_type": "code",
   "execution_count": 3,
   "metadata": {},
   "outputs": [],
   "source": [
    "class RecommenderNetDataset(CollabFilterDataset):\n",
    "    \n",
    "    # this class will inherit all methods of the parent class\n",
    "    def __init__(self, path, user_col, item_col, ratings):\n",
    "        super().__init__(path, user_col, item_col, ratings)\n",
    "    \n",
    "    # and now we will add two other methods to the class\n",
    "    def get_nn_model(self, n_factors):\n",
    "        model = EmbeddingNet(n_factors, self.n_users, self.n_items, self.min_score, self.max_score)\n",
    "        return CollabFilterModel(to_gpu(model))\n",
    "    \n",
    "    # the model will be a PyTorch model, with all of the additional fastai methods added on\n",
    "    def get_deep_learner(self, n_factors, val_idxs, bs, **kwargs):\n",
    "        return CollabFilterLearner(self.get_data(val_idxs, bs), self.get_nn_model(n_factors), **kwargs)"
   ]
  },
  {
   "cell_type": "code",
   "execution_count": 4,
   "metadata": {},
   "outputs": [],
   "source": [
    "# load the shortened data\n",
    "rs = RecommenderNetDataset.from_csv(path, 'data_1_long.csv', 'Cust_Id', 'Movie_Id', 'Rating')\n",
    "val_idxs = get_cv_idxs(rs.n)"
   ]
  },
  {
   "cell_type": "markdown",
   "metadata": {},
   "source": [
    "### Setting a few hyperparameters\n",
    "We need to decide on how many **embedding factors** to include.   \n",
    "These embedding factors represent latent (unobservable) features for each user. We'll dive deeper into these embeddings a bit later, but for now just think of them as features that the neural network learns for each user and each movie.   \n",
    "\n",
    "The **batch size** determines how many observations will be fed through the network simulataneously before updating weights and biases."
   ]
  },
  {
   "cell_type": "code",
   "execution_count": 5,
   "metadata": {},
   "outputs": [],
   "source": [
    "n_factors = 5\n",
    "batch_size = 256"
   ]
  },
  {
   "cell_type": "markdown",
   "metadata": {},
   "source": [
    "Let's call our new model that we defined above.   \n",
    "The cool thing about this model is that we defined its architecture just like any other PyTorch model, but it now comes with a few extra bells and whistles courtesy of the fastai library.   \n",
    "We'll demonstrate a few of these bells and whistles below, but check out [this notebook](https://github.com/fastai/fastai/blob/master/courses/dl1/lesson1.ipynb) for a rundown of all the cool things you can do with fastai."
   ]
  },
  {
   "cell_type": "code",
   "execution_count": 6,
   "metadata": {},
   "outputs": [],
   "source": [
    "learn = rs.get_deep_learner(n_factors, val_idxs, batch_size, opt_fn=optim.Adam)"
   ]
  },
  {
   "cell_type": "markdown",
   "metadata": {},
   "source": [
    "### Finding the learning rate"
   ]
  },
  {
   "cell_type": "code",
   "execution_count": null,
   "metadata": {},
   "outputs": [
    {
     "data": {
      "application/vnd.jupyter.widget-view+json": {
       "model_id": "aa977586848649bfb8fc8550fbb07ced",
       "version_major": 2,
       "version_minor": 0
      },
      "text/plain": [
       "HBox(children=(IntProgress(value=0, description='Epoch', max=1), HTML(value='')))"
      ]
     },
     "metadata": {},
     "output_type": "display_data"
    },
    {
     "name": "stdout",
     "output_type": "stream",
     "text": [
      "  7%|▋         | 3140/42277 [00:18<03:51, 169.16it/s, loss=1.34]"
     ]
    }
   ],
   "source": [
    "lrf = learn.lr_find()"
   ]
  },
  {
   "cell_type": "code",
   "execution_count": 10,
   "metadata": {},
   "outputs": [
    {
     "data": {
      "image/png": "[encoded data removed]",
      "text/plain": [
       "<Figure size 432x288 with 1 Axes>"
      ]
     },
     "metadata": {},
     "output_type": "display_data"
    }
   ],
   "source": [
    "learn.sched.plot()"
   ]
  },
  {
   "cell_type": "markdown",
   "metadata": {},
   "source": [
    "From the plot above, we can see that the loss was at a minimum when the learning rate was between $10^{-3}$ and $10^{-2}$.   \n",
    "Since we will be using learning rate annealing, we will choose a learning rate of $10^{-2}$, which will then decrease towards $10^{-3}$ as training progresses."
   ]
  },
  {
   "cell_type": "code",
   "execution_count": 7,
   "metadata": {},
   "outputs": [],
   "source": [
    "# set learning rate\n",
    "lr = 1e-2"
   ]
  },
  {
   "cell_type": "code",
   "execution_count": 8,
   "metadata": {},
   "outputs": [],
   "source": [
    "cf = CollabFilterDataset.from_csv(path, 'data_1_long.csv', 'Cust_Id', 'Movie_Id', 'Rating')\n",
    "val_idxs = get_cv_idxs(cf.n)"
   ]
  },
  {
   "cell_type": "code",
   "execution_count": 9,
   "metadata": {},
   "outputs": [],
   "source": [
    "n_factors = 5\n",
    "batch_size = 256"
   ]
  },
  {
   "cell_type": "markdown",
   "metadata": {},
   "source": [
    "## Training the model"
   ]
  },
  {
   "cell_type": "code",
   "execution_count": null,
   "metadata": {},
   "outputs": [
    {
     "data": {
      "application/vnd.jupyter.widget-view+json": {
       "model_id": "c4039479c28d4937a9d869cb23eda459",
       "version_major": 2,
       "version_minor": 0
      },
      "text/plain": [
       "HBox(children=(IntProgress(value=0, description='Epoch', max=7), HTML(value='')))"
      ]
     },
     "metadata": {},
     "output_type": "display_data"
    },
    {
     "name": "stdout",
     "output_type": "stream",
     "text": [
      " 16%|█▌        | 6658/42277 [00:37<03:19, 178.12it/s, loss=0.905]"
     ]
    }
   ],
   "source": [
    "learn.fit(lr, 3, cycle_len=1, cycle_mult=2)"
   ]
  },
  {
   "cell_type": "markdown",
   "metadata": {},
   "source": [
    "#### Stochastic Gradient Descent with resets\n",
    "Another cool thing about fastai library is the way we can use this method of resetting the learning rate at each epoch.   \n",
    "If the model parameters ever find their way into a local minimum, then the resetting of the learning rate helps to kick them back out again.   \n",
    "\n",
    "![SGD with resets](https://github.com/fastai/fastai/raw/6ccb0f4e6c7ad88279dcf678da2b605e8e32aea8/courses/dl1/images/sgdr.png)   \n",
    "(from the paper [Snapshot Ensembles](https://arxiv.org/abs/1704.00109))\n",
    "\n",
    "Let's take a look at the learning rate throughout the training process:"
   ]
  },
  {
   "cell_type": "code",
   "execution_count": 6,
   "metadata": {},
   "outputs": [
    {
     "data": {
      "image/png": "[encoded data removed]",
      "text/plain": [
       "<Figure size 432x288 with 1 Axes>"
      ]
     },
     "metadata": {},
     "output_type": "display_data"
    }
   ],
   "source": [
    "learn.sched.plot_lr()"
   ]
  },
  {
   "cell_type": "markdown",
   "metadata": {},
   "source": [
    "## Regularization\n",
    "Try and find the right value for the `wd` (weight decay) parameter below."
   ]
  },
  {
   "cell_type": "code",
   "execution_count": 7,
   "metadata": {},
   "outputs": [],
   "source": [
    "wd = 1e-6"
   ]
  },
  {
   "cell_type": "code",
   "execution_count": 8,
   "metadata": {},
   "outputs": [
    {
     "data": {
      "application/vnd.jupyter.widget-view+json": {
       "model_id": "36b420492a61447c9c4e3a16e3a432c4",
       "version_major": 2,
       "version_minor": 0
      },
      "text/plain": [
       "HBox(children=(IntProgress(value=0, description='Epoch', max=3), HTML(value='')))"
      ]
     },
     "metadata": {},
     "output_type": "display_data"
    },
    {
     "name": "stdout",
     "output_type": "stream",
     "text": [
      "epoch      trn_loss   val_loss   \n",
      "    0      0.850382   0.809184  \n",
      "    1      0.843988   0.809002  \n",
      "    2      0.855662   0.805702  \n",
      "\n"
     ]
    },
    {
     "data": {
      "text/plain": [
       "[array([0.8057])]"
      ]
     },
     "execution_count": 8,
     "metadata": {},
     "output_type": "execute_result"
    }
   ],
   "source": [
    "learn.fit(1e-3, 3, wds=wd, cycle_len=1, cycle_mult=2)"
   ]
  }
 ],
 "metadata": {
  "kernelspec": {
   "display_name": "Python 3",
   "language": "python",
   "name": "python3"
  },
  "language_info": {
   "codemirror_mode": {
    "name": "ipython",
    "version": 3
   },
   "file_extension": ".py",
   "mimetype": "text/x-python",
   "name": "python",
   "nbconvert_exporter": "python",
   "pygments_lexer": "ipython3",
   "version": "3.6.6"
  },
  "toc": {
   "colors": {
    "hover_highlight": "#DAA520",
    "navigate_num": "#000000",
    "navigate_text": "#333333",
    "running_highlight": "#FF0000",
    "selected_highlight": "#FFD700",
    "sidebar_border": "#EEEEEE",
    "wrapper_background": "#FFFFFF"
   },
   "moveMenuLeft": true,
   "nav_menu": {
    "height": "123px",
    "width": "252px"
   },
   "navigate_menu": true,
   "number_sections": true,
   "sideBar": true,
   "threshold": 4,
   "toc_cell": false,
   "toc_section_display": "block",
   "toc_window_display": false,
   "widenNotebook": false
  }
 },
 "nbformat": 4,
 "nbformat_minor": 2
}

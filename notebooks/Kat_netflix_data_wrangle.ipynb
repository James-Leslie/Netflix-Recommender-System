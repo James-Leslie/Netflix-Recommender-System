{
 "cells": [
  {
   "cell_type": "code",
   "execution_count": 1,
   "metadata": {
    "_cell_guid": "b1076dfc-b9ad-4769-8c92-a6c4dae69d19",
    "_uuid": "8f2839f25d086af736a60e9eeb907d3b93b6e0e5"
   },
   "outputs": [],
   "source": [
    "# This Python 3 environment comes with many helpful analytics libraries installed\n",
    "# It is defined by the kaggle/python docker image: https://github.com/kaggle/docker-python\n",
    "# For example, here's several helpful packages to load in \n",
    "\n",
    "import numpy as np # linear algebra\n",
    "import pandas as pd # data processing, CSV file I/O (e.g. pd.read_csv)\n",
    "from heapq import nlargest\n",
    "import tarfile\n"
   ]
  },
  {
   "cell_type": "code",
   "execution_count": 2,
   "metadata": {
    "_uuid": "10ebc92af4505e3980eb043366ccae067d48979e"
   },
   "outputs": [],
   "source": [
    "path = '../data/'\n",
    "c_all = ['combined_data_1.txt', 'combined_data_2.txt', 'combined_data_3.txt', 'combined_data_4.txt']"
   ]
  },
  {
   "cell_type": "code",
   "execution_count": null,
   "metadata": {
    "_uuid": "746b657266d5a2470913ca0fe9c2806599db638d"
   },
   "outputs": [],
   "source": [
    "def from_text_to_dataframe(file, path):\n",
    "    \n",
    "    arr = []\n",
    "    \n",
    "    with open(path +file ) as f:\n",
    "        for line in f:\n",
    "            entry = line.strip()\n",
    "\n",
    "            if entry.find(':') != -1:\n",
    "                movie_id = np.int32(entry.strip(':'))\n",
    "            if entry.find(':') == -1: \n",
    "                user_id = np.int64(entry.split(',')[0])\n",
    "                rating = np.int8(entry.split(',')[1])\n",
    "                temp_arr = np.array([movie_id, user_id, rating])\n",
    "                arr.append(temp_arr)\n",
    "    df = pd.DataFrame(arr[0:], columns=['movieId', 'userId', 'rating']).astype({'movieId':np.int32, 'userId': np.int64, 'rating': np.int8})\n",
    "    return(df)"
   ]
  },
  {
   "cell_type": "code",
   "execution_count": null,
   "metadata": {
    "_uuid": "09a01b04bd0c7f862a8e819c7bd5c28d3fc59788",
    "scrolled": true
   },
   "outputs": [],
   "source": [
    "df = pd.DataFrame()\n",
    "for file in c_all:\n",
    "    df_temp = from_text_to_dataframe(file, '../input/netflix-prize-data/')\n",
    "    df = pd.concat([df,df_temp])\n",
    "    "
   ]
  },
  {
   "cell_type": "code",
   "execution_count": null,
   "metadata": {
    "_uuid": "2ba57285af54b21c09624d3098b9e717f798d5fb"
   },
   "outputs": [],
   "source": [
    "df.info()\n",
    "\n",
    "df.to_csv('netflix_csv_all.csv', index=False)"
   ]
  },
  {
   "cell_type": "code",
   "execution_count": null,
   "metadata": {
    "_uuid": "f90bacf25d9a2fc3fd4dcafba472a45c16e1ac23"
   },
   "outputs": [],
   "source": [
    "tar = tarfile.open(\"netflix_data.tar.gz\", \"w:gz\")\n",
    "for name in [\"netflix_csv_all.csv\"]:\n",
    "    tar.add(name)\n",
    "tar.close()"
   ]
  },
  {
   "cell_type": "code",
   "execution_count": null,
   "metadata": {
    "_uuid": "343718939109170554d0a5ed1359e2d6f38203b2"
   },
   "outputs": [],
   "source": [
    "def get_dictionary(lst):\n",
    "    users_d = {}\n",
    "    movies_d = {}\n",
    "    #add keys in dictionary\n",
    "    for file in lst:\n",
    "        for entry in file:\n",
    "            if entry.find(':') == -1 : # This line excludes the lines with the movie id\n",
    "                user_id = entry.split(',')[0]\n",
    "                users_d[user_id] = 0\n",
    "            else:\n",
    "                movie_id = entry.strip(':')\n",
    "                movies_d[movie_id] = 0\n",
    "    #count users and movie ratings\n",
    "    for file in lst:\n",
    "        for entry in file:\n",
    "            if entry.find(':') != -1:\n",
    "                movie_id = entry.strip(':')\n",
    "            else:\n",
    "                user_id = entry.split(',')[0]\n",
    "                users_d[user_id] += 1\n",
    "                movies_d[movie_id] += 1\n",
    "    \n",
    "    print(\"{} unique users recorded\".format(len(users_d)))\n",
    "    print(\"{} unique movies recorded\".format(len(movies_d)))\n",
    "    \n",
    "    return(users_d, movies_d)\n",
    "\n",
    "def top_n(n, dic):\n",
    "    return(nlargest(n, dic, key=dic.get))"
   ]
  },
  {
   "cell_type": "code",
   "execution_count": null,
   "metadata": {
    "_uuid": "80884670412f0f61133cb3f719469a0165a83bdc"
   },
   "outputs": [],
   "source": [
    "top_users = top_n(10000, users)\n",
    "top_movies = top_n(1000, movies)"
   ]
  }
 ],
 "metadata": {
  "kernelspec": {
   "display_name": "Python 3",
   "language": "python",
   "name": "python3"
  },
  "language_info": {
   "codemirror_mode": {
    "name": "ipython",
    "version": 3
   },
   "file_extension": ".py",
   "mimetype": "text/x-python",
   "name": "python",
   "nbconvert_exporter": "python",
   "pygments_lexer": "ipython3",
   "version": "3.6.6"
  }
 },
 "nbformat": 4,
 "nbformat_minor": 2
}
